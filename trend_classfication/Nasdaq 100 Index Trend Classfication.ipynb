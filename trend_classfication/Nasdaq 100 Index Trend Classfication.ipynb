{
 "cells": [
  {
   "cell_type": "markdown",
   "metadata": {},
   "source": [
    "# Nasdaq Trend Prediction Classification \n",
    "\n"
   ]
  },
  {
   "cell_type": "markdown",
   "metadata": {},
   "source": [
    "We are going to demonstrate how to use different classfiers to classifer the trend of Nasdaq 100 index. The stock market is infamous for non-predictable as it is not stationary, however this does not stop people from trying to predict it. \n",
    "The dataset used is downloaded from http://cseweb.ucsd.edu/~yaq007/NASDAQ100_stock_data.html, which has the Nasdaq 100 index value collected every minute coveringthe period from July 26, 2016 to April 28, 2017, in total 191 days. Each day contains 390 data points for NASDAQ 100 index from the opening to closing of the market. The values of the data is visualized in below figure. \n",
    "\n",
    "It can be observed that in the first 40,000 samples, the Nasdaq index goes both up and down but between 40,000 to end of this dataset, the trend is most up. To make sure we have balanced trends, we only use the first 40k samples during this experiment. "
   ]
  },
  {
   "cell_type": "markdown",
   "metadata": {},
   "source": [
    "## Reference:\n",
    "1. Classifying financial time series using Discrete Fourier Transforms\n",
    "https://reasonabledeviations.science/2018/04/19/classifying-timeseries\n",
    "\n",
    "2. Trend Prediction Classification for High Frequency Bitcoin Time Series with Deep Learning\n",
    "https://www.mdpi.com/1911-8074/12/1/17/pdf"
   ]
  },
  {
   "cell_type": "code",
   "execution_count": 13,
   "metadata": {},
   "outputs": [],
   "source": [
    "import time, os\n",
    "import math\n",
    "import numpy as np\n",
    "import pandas as pd\n",
    "from tqdm import tqdm\n",
    "from sklearn.preprocessing import StandardScaler, MinMaxScaler\n",
    "import matplotlib.pyplot as plt"
   ]
  },
  {
   "cell_type": "code",
   "execution_count": 14,
   "metadata": {},
   "outputs": [],
   "source": [
    "NASDAQ = '~/soa_data/nasdaq100/nasdaq100/full/full_non_padding.csv'\n",
    "raw_data = pd.read_csv(NASDAQ)\n",
    "df_nasdaq = raw_data['NDX'].dropna()[0:45000]"
   ]
  },
  {
   "cell_type": "code",
   "execution_count": 15,
   "metadata": {},
   "outputs": [],
   "source": [
    "scale = MinMaxScaler().fit(df_nasdaq.values.reshape(-1, 1))\n",
    "nasdaq_caled = scale.transform(df_nasdaq.values.reshape(-1, 1))"
   ]
  },
  {
   "cell_type": "code",
   "execution_count": 16,
   "metadata": {},
   "outputs": [
    {
     "data": {
      "text/plain": [
       "<matplotlib.axes._subplots.AxesSubplot at 0x7fdaecb5e9e8>"
      ]
     },
     "execution_count": 16,
     "metadata": {},
     "output_type": "execute_result"
    },
    {
     "data": {
      "image/png": "[encoded data removed]",
      "text/plain": [
       "<Figure size 432x288 with 1 Axes>"
      ]
     },
     "metadata": {
      "needs_background": "light"
     },
     "output_type": "display_data"
    }
   ],
   "source": [
    "raw_data['NDX'].plot()\n",
    "df_nasdaq.plot()"
   ]
  },
  {
   "cell_type": "markdown",
   "metadata": {},
   "source": [
    "We will also need to convert the Nasdaq index to the supervised learning labels. \n",
    "We define a threshold \\epislon, and a sliding window T, and for each time point, it could be one of three trends: up, down and stationary.\n",
    "Assume m_t is the average index price in the T time points preceding current time, and m_t+T, in the average of the next T time points. The state of current time point can be derived as following:\n",
    "\n",
    "y = 1,  if m_t < m_t+T - \\epislon.\n",
    "   -1, if m_t > m_t+T + \\epislon\n",
    "    0,  else case\n",
    "\n",
    "To make sure the number samples for each label are balanced, the \\epislon need be carefull selected. During our experiment, the \\epislon = 0.0055."
   ]
  },
  {
   "cell_type": "code",
   "execution_count": 17,
   "metadata": {},
   "outputs": [
    {
     "name": "stdout",
     "output_type": "stream",
     "text": [
      "X_train (31465, 32)\n",
      "y_train (31465,)\n",
      "X_test (13486, 32)\n",
      "y_test (13486,)\n"
     ]
    }
   ],
   "source": [
    "import numpy as np\n",
    "import matplotlib.pyplot as plt\n",
    "import scipy.fftpack\n",
    "\n",
    "sliding_window_length = 32\n",
    "prediction_window_length = 16\n",
    "stationary_threshold = 0.0055\n",
    "# Generate the training X and y\n",
    "X = []\n",
    "y = []\n",
    "X_raw = []\n",
    "for i in range(sliding_window_length, len(nasdaq_caled)):\n",
    "    history_start = i - sliding_window_length\n",
    "    history_end = i\n",
    "    future_start = i + 1\n",
    "    future_end = future_start + prediction_window_length\n",
    "    if future_end >= len(nasdaq_caled):\n",
    "        break\n",
    "    history_value = nasdaq_caled[history_start: history_end]\n",
    "    m_t = np.mean(history_value)\n",
    "    \n",
    "    future_value = nasdaq_caled[future_start: future_end]\n",
    "    m_t_T = np.mean(future_value)\n",
    "    \n",
    "    if m_t >  m_t_T + stationary_threshold:\n",
    "        y_ = -1\n",
    "    elif  m_t <  m_t_T - stationary_threshold:\n",
    "        y_ = 1\n",
    "    else:\n",
    "        y_ = 0\n",
    "    X_raw.append(history_value)\n",
    "    ftt_data = scipy.fftpack.rfft(history_value.ravel())\n",
    "    X.append(history_value.ravel())\n",
    "    y.append(y_)\n",
    "\n",
    "y = np.array(y)\n",
    "X = np.array(X)\n",
    "\n",
    "from sklearn.model_selection import train_test_split\n",
    "test_size = 0.3\n",
    "X_train, X_test, y_train, y_test = train_test_split(X, y, shuffle = True, test_size=test_size, random_state=42)\n",
    "# see the shape\n",
    "print(\"X_train\", X_train.shape)\n",
    "print(\"y_train\", y_train.shape)\n",
    "print(\"X_test\", X_test.shape)\n",
    "print(\"y_test\", y_test.shape)"
   ]
  },
  {
   "cell_type": "code",
   "execution_count": 18,
   "metadata": {},
   "outputs": [],
   "source": [
    "def num_labels(y):\n",
    "    num_up = np.count_nonzero(y == 1)\n",
    "    num_down = np.count_nonzero(y == -1)\n",
    "    num_stationary = np.count_nonzero(y == 0)\n",
    "    return [num_up, num_down, num_stationary]"
   ]
  },
  {
   "cell_type": "markdown",
   "metadata": {},
   "source": [
    "We apply the conversion method throughout the first 40k samples to generate the training sample X and y. We also split the total X and y into two parts and the first 70% will be our training data and the remaining 30% will be reserved to evaludate the classfiers accuracy after the training is complete.  "
   ]
  },
  {
   "cell_type": "code",
   "execution_count": 23,
   "metadata": {},
   "outputs": [
    {
     "data": {
      "image/png": "[encoded data removed]",
      "text/plain": [
       "<Figure size 576x360 with 2 Axes>"
      ]
     },
     "metadata": {
      "needs_background": "light"
     },
     "output_type": "display_data"
    }
   ],
   "source": [
    "width = 0.9\n",
    "ind = np.arange(3)\n",
    "num_labels(y_train)\n",
    "\n",
    "fig = plt.figure(figsize = (8, 5))\n",
    "plt.subplot(1,2,1)\n",
    "plt.bar(ind, num_labels(y_train), width)\n",
    "plt.xticks(ind, ('Up', 'Down', 'Stationary'))\n",
    "plt.title('Training samples for each label')\n",
    "plt.grid(True)\n",
    "plt.subplot(1,2,2)\n",
    "plt.bar(ind, num_labels(y_test), width)\n",
    "plt.xticks(ind, ('Up', 'Down', 'Stationary'))\n",
    "plt.title('Testing samples for each label')\n",
    "plt.grid(True)\n",
    "fig.savefig('number_of_labels.png')"
   ]
  },
  {
   "cell_type": "markdown",
   "metadata": {},
   "source": [
    "### Compare the prediction accuracy"
   ]
  },
  {
   "cell_type": "markdown",
   "metadata": {},
   "source": [
    "## Feature Extraction"
   ]
  },
  {
   "cell_type": "markdown",
   "metadata": {},
   "source": [
    "Inspired by ref[1], we also take Discrete Fourier Transform (DFT) of the time series data in each sliding window."
   ]
  },
  {
   "cell_type": "code",
   "execution_count": 20,
   "metadata": {},
   "outputs": [],
   "source": [
    "import numpy as np\n",
    "import matplotlib.pyplot as plt\n",
    "from sklearn.neural_network import MLPClassifier\n",
    "from sklearn.neighbors import KNeighborsClassifier\n",
    "from sklearn.svm import SVC\n",
    "from sklearn.gaussian_process.kernels import RBF\n",
    "from sklearn.tree import DecisionTreeClassifier\n",
    "from sklearn.ensemble import RandomForestClassifier, GradientBoostingClassifier\n",
    "from sklearn.naive_bayes import GaussianNB\n",
    "\n",
    "names = [\"Nearest Neighbors\", \"RBF SVM\", \n",
    "         \"Decision Tree\", \"Random Forest\",\n",
    "         \"Naive Bayes\", \"Gradient Boost\"]\n",
    "\n",
    "colors = []\n",
    "classifiers = [\n",
    "    KNeighborsClassifier(3),\n",
    "    SVC(gamma='auto', C=5),\n",
    "    DecisionTreeClassifier(max_depth=5),\n",
    "    RandomForestClassifier(max_depth=5, n_estimators=10, max_features=1),\n",
    "    GaussianNB(),\n",
    "    GradientBoostingClassifier()]"
   ]
  },
  {
   "cell_type": "code",
   "execution_count": null,
   "metadata": {},
   "outputs": [],
   "source": []
  },
  {
   "cell_type": "code",
   "execution_count": 21,
   "metadata": {},
   "outputs": [
    {
     "name": "stdout",
     "output_type": "stream",
     "text": [
      "Nearest Neighbors train score =  0.9591609725091371 test score =  0.8413169212516683\n",
      "RBF SVM train score =  0.5669156205307484 test score =  0.5715556873795047\n",
      "Decision Tree train score =  0.46426187827745113 test score =  0.4594394186563844\n",
      "Random Forest train score =  0.48472906403940885 test score =  0.4822779178407237\n",
      "Naive Bayes train score =  0.37705386937867474 test score =  0.3792080676256859\n",
      "Gradient Boost train score =  0.657873828062927 test score =  0.6230164615156458\n"
     ]
    }
   ],
   "source": [
    "clf_scores_test = {}\n",
    "clf_models = {}\n",
    "clf_scores_train = {}\n",
    "for name, clf in zip(names, classifiers):\n",
    "    clf.fit(X_train, y_train)\n",
    "    clf_models[name] = clf\n",
    "    clf_scores_test[name] = clf.score(X_test, y_test)\n",
    "    clf_scores_train[name] = clf.score(X_train, y_train)\n",
    "    print(name, 'train score = ', clf_scores_train[name], \n",
    "                'test score = ', clf_scores_test[name])"
   ]
  },
  {
   "cell_type": "code",
   "execution_count": 22,
   "metadata": {},
   "outputs": [
    {
     "data": {
      "image/png": "[encoded data removed]",
      "text/plain": [
       "<Figure size 648x504 with 2 Axes>"
      ]
     },
     "metadata": {
      "needs_background": "light"
     },
     "output_type": "display_data"
    }
   ],
   "source": [
    "width = 0.7\n",
    "ind = np.arange(len(names))\n",
    "train_scores = []\n",
    "test_scores = []\n",
    "for name in names:\n",
    "    train_scores.append(clf_scores_train[name])\n",
    "    test_scores.append(clf_scores_test[name])\n",
    "\n",
    "fig = plt.figure(figsize = (9, 7))\n",
    "plt.subplot(2,1,1)\n",
    "plt.bar(ind, train_scores, width)\n",
    "plt.xticks(ind, names)\n",
    "plt.title('Accuracy with training data')\n",
    "plt.grid(True)\n",
    "plt.subplot(2,1,2)\n",
    "plt.bar(ind, test_scores, width)\n",
    "plt.xticks(ind, names)\n",
    "plt.title('Accuracy with testing data')\n",
    "plt.grid(True)\n",
    "fig.savefig('prediction_score.png')"
   ]
  },
  {
   "cell_type": "code",
   "execution_count": null,
   "metadata": {},
   "outputs": [],
   "source": []
  }
 ],
 "metadata": {
  "kernelspec": {
   "display_name": "Python 3",
   "language": "python",
   "name": "python3"
  },
  "language_info": {
   "codemirror_mode": {
    "name": "ipython",
    "version": 3
   },
   "file_extension": ".py",
   "mimetype": "text/x-python",
   "name": "python",
   "nbconvert_exporter": "python",
   "pygments_lexer": "ipython3",
   "version": "3.6.8"
  }
 },
 "nbformat": 4,
 "nbformat_minor": 2
}
