{
 "cells": [
  {
   "cell_type": "markdown",
   "metadata": {},
   "source": [
    "# Bitcoin price prediction with CNN"
   ]
  },
  {
   "cell_type": "markdown",
   "metadata": {},
   "source": [
    "In this part, we are going to demonstrate how to use deep neural networks (DNN) to predict bitcoin price. The DNN we are using in this section is mostly feed-forward networks, and in the next section, the recurrent neural network (RNN) will be dicussed and some solid examples will be provided to demonstrate how to use RNN and LSTM (a special type of RNN) to perform time serial analysis. We are going to use two types of DNN: MultiLayer Perceptron (MLP) and Convolutional Neural Networks (CNN). \n"
   ]
  },
  {
   "cell_type": "markdown",
   "metadata": {},
   "source": [
    "## MLP vs CNN"
   ]
  },
  {
   "cell_type": "markdown",
   "metadata": {},
   "source": [
    "MLP is probably one of the oldest DNN mode and we have showed its network structure in above Figure 8. In the MLP, every neuron of current layer will have one connection of every other neurons of the next layer. Thata's why the layers of MLP is also called fully connected layer of dense layer. \n",
    "CNN is invented to process 2D image, however in the recent years it is also widely used in time series data such as natural langurate process, or human activity recognition from accelerometer data recorded by smart phones or other wearable devices. \n",
    "\n",
    "https://blog.goodaudience.com/introduction-to-1d-convolutional-neural-networks-in-keras-for-time-sequences-3a7ff801a2cf\n",
    "\n",
    "It is natural to think that MLP is helpful for the time series application. In this case, MLP is a lot like the traditional regression problem where we are trying to design a model to be able to regree the input data. The difference is there is no need to design the mathmatically model by hand, we just need define how many neurons we need in MLP and the weights of the connections between different neurons regress the training data. The problem with MLP is the connections are so dense and it is very easy to overfit the training data. \n",
    "\n",
    "As for 1D CNN, it is trying to find pattern of the fixed segment of time series data. For each to-be-found pattern, we just define a set of parameters and we can predefine how many patterns we would like to reveal from each segment by experience. Therefore, the CNN is very effective and requires much less connections between neurons acorss layers. \n",
    "\n",
    "We would like to apply both MLP and CNN in time series application with below bitcoin history data."
   ]
  },
  {
   "cell_type": "markdown",
   "metadata": {},
   "source": [
    "## Bitcoin price prediction with CNN and MLP"
   ]
  },
  {
   "cell_type": "markdown",
   "metadata": {},
   "source": [
    "### Dataset"
   ]
  },
  {
   "cell_type": "markdown",
   "metadata": {},
   "source": [
    "The dataset we are using is the bitcoin historical data from Jan 2012 to March 2019, and can be downloaded from kaggle website: https://www.kaggle.com/mczielinski/bitcoin-historical-data. The original dataset contains the bitcoin history data updated every minute with Open, High, Low and Close prices. In this demonstraction, we average the close prices happening in each day and will use MLP and CNN to predict the next 5 days of bitcoin price with the past 10 days price."
   ]
  },
  {
   "cell_type": "code",
   "execution_count": 1,
   "metadata": {},
   "outputs": [],
   "source": [
    "import numpy as np\n",
    "import pandas as pd \n",
    "import matplotlib.pyplot as plt\n",
    "import os\n",
    "from sklearn import preprocessing"
   ]
  },
  {
   "cell_type": "code",
   "execution_count": 2,
   "metadata": {},
   "outputs": [],
   "source": [
    "bit_data = pd.read_csv(\"./data/bitstampUSD_1-min_data_2012-01-01_to_2019-03-13.csv\")\n",
    "bit_data[\"date\"]=pd.to_datetime(bit_data[\"Timestamp\"],unit=\"s\").dt.date\n",
    "group = bit_data.groupby(\"date\")\n",
    "data = group[\"Close\"].mean()"
   ]
  },
  {
   "cell_type": "markdown",
   "metadata": {},
   "source": [
    "### Data Visualization and Preparation"
   ]
  },
  {
   "cell_type": "markdown",
   "metadata": {},
   "source": [
    "There are 2627 valid date points in from Jan 2012 to March 2019. The original data is illustrated in the left of the figure in below. It can be observed that the price is relatively flat betwen 2012 and 2017 and then rises to increditable high in begining of 2018 before falling later on. The original data is normalized first so that the model will treat every section of the data equally. \n",
    "\n",
    "The time series bitcoin data here only have X samples and both CNN and MLP are supervise learning models therefore we need to generate the ground truth label X. The goal here is to use the last 10 days of bitcoin price to predict the following 5 days, so both MLP and CNN are trying to find a mappping function so that \n",
    "X[t15,..,t19] = f( X[t0,...,t14]) and the groundtruth y = X[t15,..,t19], where ti is a time point. \n",
    "\n",
    "The whole 2627 data is also split into two parts: the first 70% is used as training data and the remaining 30% will be served as test data to evaludate the model accuracy after the training is complete. "
   ]
  },
  {
   "cell_type": "code",
   "execution_count": 3,
   "metadata": {},
   "outputs": [
    {
     "data": {
      "image/png": "[encoded data removed]",
      "text/plain": [
       "<Figure size 648x288 with 2 Axes>"
      ]
     },
     "metadata": {
      "needs_background": "light"
     },
     "output_type": "display_data"
    }
   ],
   "source": [
    "from pandas.plotting import register_matplotlib_converters\n",
    "register_matplotlib_converters()\n",
    "\n",
    "data_n = data.values\n",
    "scaler = preprocessing.StandardScaler()\n",
    "data_scaled = scaler.fit_transform(data_n.reshape(-1,1))\n",
    "\n",
    "\n",
    "fig=plt.figure(figsize=(9,4))\n",
    "fig.suptitle('Visualize Bitcoin Price Normalization')\n",
    "plt.subplot(1,2,1)\n",
    "plt.plot(data.keys(), data_n, '-', color='mediumvioletred', label='Bitcoin Price')\n",
    "plt.legend(loc='upper left')\n",
    "plt.subplot(1,2,2)\n",
    "plt.plot(data.keys(), data_scaled, color='royalblue', label='Normalized Bitcoin Price')\n",
    "plt.legend(loc='upper left')\n",
    "fig.savefig(\"bitcoin_price_normalization.png\")"
   ]
  },
  {
   "cell_type": "code",
   "execution_count": 4,
   "metadata": {},
   "outputs": [],
   "source": [
    "# convert history into inputs and outputs\n",
    "def to_supervised(train, n_input, n_out=7):\n",
    "    data = train.reshape((train.shape[0]*train.shape[1], train.shape[2]))\n",
    "    X, y = list(), list()\n",
    "    in_start = 0\n",
    "    for _ in range(len(data)):\n",
    "        # define the end of the input sequence\n",
    "        in_end = in_start + n_input\n",
    "        out_end = in_end + n_out\n",
    "        # ensure we have enough data for this instance\n",
    "        if out_end < len(data):\n",
    "            X.append(data[in_start:in_end, :])\n",
    "            y.append(data[in_end:out_end, 0])\n",
    "        # move along one time step\n",
    "        in_start += 1\n",
    "    return np.array(X), np.array(y)"
   ]
  },
  {
   "cell_type": "code",
   "execution_count": 5,
   "metadata": {},
   "outputs": [
    {
     "name": "stdout",
     "output_type": "stream",
     "text": [
      "X_train (1828, 10, 1)\n",
      "y_train (1828, 5)\n",
      "X_test (784, 10, 1)\n",
      "y_test (784, 5)\n"
     ]
    }
   ],
   "source": [
    "from sklearn.model_selection import train_test_split\n",
    "\n",
    "test_size = 0.3\n",
    "time_window_length = 10\n",
    "prediction_time = 5\n",
    "\n",
    "X, y = to_supervised(data_scaled.reshape(-1,1,1), time_window_length, prediction_time)\n",
    "X_train, X_test, y_train, y_test = train_test_split(X, y, shuffle = True, test_size=test_size, random_state=42)\n",
    "# see the shape\n",
    "print(\"X_train\", X_train.shape)\n",
    "print(\"y_train\", y_train.shape)\n",
    "print(\"X_test\", X_test.shape)\n",
    "print(\"y_test\", y_test.shape)"
   ]
  },
  {
   "cell_type": "code",
   "execution_count": 6,
   "metadata": {},
   "outputs": [],
   "source": [
    "n_steps = time_window_length\n",
    "n_features = 1"
   ]
  },
  {
   "cell_type": "markdown",
   "metadata": {},
   "source": [
    "## Build MLP and CNN models\n",
    "\n",
    "The MLP model used in this task consists of multiple dense layer (or fully connected layer), where each neuron in the previous layer will have a connection to every neuron the next layer). Due to use of dense layers, there are a lot of parameters to be trained in MLP model. In the MLP model we built, there are 21,509 parameters to be trained. "
   ]
  },
  {
   "cell_type": "code",
   "execution_count": 7,
   "metadata": {},
   "outputs": [
    {
     "name": "stderr",
     "output_type": "stream",
     "text": [
      "Using TensorFlow backend.\n"
     ]
    }
   ],
   "source": [
    "from keras.models import Sequential\n",
    "from keras.layers.core import Dense, Dropout, Activation,Flatten \n",
    "from keras.layers import Conv1D, MaxPooling1D"
   ]
  },
  {
   "cell_type": "code",
   "execution_count": 8,
   "metadata": {},
   "outputs": [
    {
     "name": "stdout",
     "output_type": "stream",
     "text": [
      "_________________________________________________________________\n",
      "Layer (type)                 Output Shape              Param #   \n",
      "=================================================================\n",
      "dense_1 (Dense)              (None, 256)               2816      \n",
      "_________________________________________________________________\n",
      "dense_2 (Dense)              (None, 64)                16448     \n",
      "_________________________________________________________________\n",
      "dense_3 (Dense)              (None, 32)                2080      \n",
      "_________________________________________________________________\n",
      "dense_4 (Dense)              (None, 5)                 165       \n",
      "=================================================================\n",
      "Total params: 21,509\n",
      "Trainable params: 21,509\n",
      "Non-trainable params: 0\n",
      "_________________________________________________________________\n"
     ]
    }
   ],
   "source": [
    "# define MLP  model\n",
    "model_mlp = Sequential()\n",
    "model_mlp.add(Dense(256, activation='relu', input_dim=n_steps))\n",
    "model_mlp.add(Dense(64, activation='relu', input_dim=n_steps))\n",
    "model_mlp.add(Dense(32, activation='relu', input_dim=n_steps))\n",
    "model_mlp.add(Dense(prediction_time))\n",
    "model_mlp.compile(optimizer='adam', loss='mse')\n",
    "model_mlp.summary()"
   ]
  },
  {
   "cell_type": "markdown",
   "metadata": {},
   "source": [
    "For the CNN model, multiple 1 dimension convolutional layers are used. Each convolutional layer will learn certain patterns from the data and later layer of convolutional layer will learn more high dimension patterns from earlier layers. Maxpooling layer are added right after the last convolutional layer to avoid overfitting. A dense layer is also used to make sure the output dimension is 5. \n",
    "CNN model is quite effective to identity the repeated patterns in the time series data, therefore the required number of parameters are signigicant smaller than the MLP. In the CNN mpdel we built, there are only ~9000 parameters."
   ]
  },
  {
   "cell_type": "code",
   "execution_count": 9,
   "metadata": {},
   "outputs": [
    {
     "name": "stdout",
     "output_type": "stream",
     "text": [
      "_________________________________________________________________\n",
      "Layer (type)                 Output Shape              Param #   \n",
      "=================================================================\n",
      "conv1d_1 (Conv1D)            (None, 8, 64)             256       \n",
      "_________________________________________________________________\n",
      "conv1d_2 (Conv1D)            (None, 6, 32)             6176      \n",
      "_________________________________________________________________\n",
      "conv1d_3 (Conv1D)            (None, 4, 16)             1552      \n",
      "_________________________________________________________________\n",
      "max_pooling1d_1 (MaxPooling1 (None, 2, 16)             0         \n",
      "_________________________________________________________________\n",
      "flatten_1 (Flatten)          (None, 32)                0         \n",
      "_________________________________________________________________\n",
      "dense_5 (Dense)              (None, 5)                 165       \n",
      "=================================================================\n",
      "Total params: 8,149\n",
      "Trainable params: 8,149\n",
      "Non-trainable params: 0\n",
      "_________________________________________________________________\n"
     ]
    }
   ],
   "source": [
    "# define CNN model\n",
    "model_cnn = Sequential()\n",
    "model_cnn.add(Conv1D(filters=64, kernel_size=3, activation='relu', input_shape=(n_steps, n_features)))\n",
    "model_cnn.add(Conv1D(filters=32, kernel_size=3, activation='relu'))\n",
    "model_cnn.add(Conv1D(filters=16, kernel_size=3, activation='relu'))\n",
    "model_cnn.add(MaxPooling1D(pool_size=2))\n",
    "\n",
    "model_cnn.add(Flatten())\n",
    "# model_cnn.add(Dense(16, activation='relu'))\n",
    "model_cnn.add(Dense(prediction_time))\n",
    "model_cnn.compile(optimizer='adam', loss='mse')\n",
    "model_cnn.summary()"
   ]
  },
  {
   "cell_type": "markdown",
   "metadata": {},
   "source": [
    "Both the CNN and MLP model was trained for around 64 epochs. The MSE of after each epoch of training is showed in below figure for both of the model. The MSE of both of the model is plateaued after around 20 epochs, which indicates that both of the model covergent to its optimal state.  "
   ]
  },
  {
   "cell_type": "code",
   "execution_count": 10,
   "metadata": {
    "scrolled": false
   },
   "outputs": [],
   "source": [
    "# fit modelw\n",
    "n_epochs = 64\n",
    "history_cnn = model_cnn.fit(X_train.reshape(-1, n_steps,1), y_train, epochs=n_epochs, verbose=0)\n",
    "history_mlp = model_mlp.fit(X_train.reshape(-1, n_steps), y_train, epochs=n_epochs, verbose=0)"
   ]
  },
  {
   "cell_type": "code",
   "execution_count": 11,
   "metadata": {},
   "outputs": [
    {
     "data": {
      "image/png": "[encoded data removed]",
      "text/plain": [
       "<Figure size 432x288 with 1 Axes>"
      ]
     },
     "metadata": {
      "needs_background": "light"
     },
     "output_type": "display_data"
    }
   ],
   "source": [
    "# Plot training & validation loss values\n",
    "fig = plt.figure()\n",
    "plt.plot(history_cnn.history['loss'], label = 'CNN training loss')\n",
    "plt.plot(history_mlp.history['loss'], label = 'MLP training loss')\n",
    "plt.ylabel('MSE')\n",
    "plt.xlabel('Epoch')\n",
    "plt.legend(loc='best')\n",
    "plt.title('MLP and CNN training loss')\n",
    "fig.savefig('cnn_mlp_training_loss.png', fig_size = (8,6))"
   ]
  },
  {
   "cell_type": "code",
   "execution_count": 12,
   "metadata": {},
   "outputs": [],
   "source": [
    "y_pred_cnn = []\n",
    "y_pred_mlp = []\n",
    "ground_truth = []\n",
    "\n",
    "num_segments = int(data_scaled.shape[0] / prediction_time)\n",
    "for i in range(num_segments - 1):\n",
    "    start_index = i * prediction_time\n",
    "    end_index = start_index + time_window_length\n",
    "    if end_index >= len(data_scaled):\n",
    "        break\n",
    "    X_in = data_scaled[start_index : end_index].reshape(1,-1,1)    \n",
    "    pred_cnn = model_cnn.predict(X_in)\n",
    "    pred_mlp = model_mlp.predict(X_in.reshape(1,-1))\n",
    "    y_pred_cnn.append(pred_cnn)\n",
    "    y_pred_mlp.append(pred_mlp)\n",
    "\n",
    "y_pred_cnn = np.array(y_pred_cnn).ravel()\n",
    "y_pred_mlp = np.array(y_pred_mlp).ravel()"
   ]
  },
  {
   "cell_type": "code",
   "execution_count": 17,
   "metadata": {},
   "outputs": [],
   "source": [
    "ground_truth = data_scaled[prediction_time: prediction_time + len(y_pred_mlp)].ravel()"
   ]
  },
  {
   "cell_type": "markdown",
   "metadata": {},
   "source": [
    "### Result Analysis"
   ]
  },
  {
   "cell_type": "markdown",
   "metadata": {},
   "source": [
    "After the models being trained, we used them to predict the bitcoin price. We have a sliding window which including the 15 days of bitcoin data used as the model input and predict the bitcoin price for following 5 days, then we move this sliding window by 5 days to predict the next 5 days. It is not suprised that in the first 1828 days, the predictions from both of the model almost have no error as this part of data has been used as training data. What is interesting is that even the testing data section, the predictions from both of the models are very good. The MSE of CNN model is 0.039 and MSE of MLP model is 0.0479, although the CNN model using less than half of the parameters compared to the MLP model. This results demonstrate that CNN should be preferred model even in the time series analysis. This is in fact not counterintuitive. We human being is also trying to recognize the patterns from the time series data to help us predict the future and CNN excels in identitying the pattern in both 1D sequential data and 2D image data. "
   ]
  },
  {
   "cell_type": "code",
   "execution_count": 25,
   "metadata": {},
   "outputs": [
    {
     "data": {
      "image/png": "[encoded data removed]",
      "text/plain": [
       "<Figure size 432x288 with 1 Axes>"
      ]
     },
     "metadata": {
      "needs_background": "light"
     },
     "output_type": "display_data"
    }
   ],
   "source": [
    "fig, axs = plt.subplots()\n",
    "fig.suptitle('CNN/MLP Prediction vs Ground Truth')\n",
    "axs.plot(ground_truth, label='ground_truth')\n",
    "axs.plot(y_pred_cnn, label='y_pred_cnn')\n",
    "axs.plot(y_pred_mlp, label='y_pred_mlp')\n",
    "plt.legend(loc='best')\n",
    "fig.savefig('prediction_vs_gt.png', fig_size = (8,6))"
   ]
  },
  {
   "cell_type": "code",
   "execution_count": 15,
   "metadata": {},
   "outputs": [
    {
     "name": "stdout",
     "output_type": "stream",
     "text": [
      "MSE CNN model 0.039000332830261206\n",
      "MSE MLP model 0.04797833364345617\n"
     ]
    }
   ],
   "source": [
    "cnn_error = np.abs(y_pred_cnn - ground_truth)\n",
    "mlp_error = np.abs(y_pred_mlp - ground_truth)\n",
    "mse_cnn = np.sum(cnn_error) / np.sum(np.abs(ground_truth)) \n",
    "mse_mlp = np.sum(mlp_error) / np.sum(np.abs(ground_truth)) \n",
    "print('MSE CNN model', mse_cnn)\n",
    "print('MSE MLP model', mse_mlp)"
   ]
  },
  {
   "cell_type": "code",
   "execution_count": 23,
   "metadata": {},
   "outputs": [
    {
     "data": {
      "image/png": "[encoded data removed]",
      "text/plain": [
       "<Figure size 432x288 with 1 Axes>"
      ]
     },
     "metadata": {
      "needs_background": "light"
     },
     "output_type": "display_data"
    }
   ],
   "source": [
    "fig, axs = plt.subplots()\n",
    "fig.suptitle('CNN/MLP Prediction Error')\n",
    "axs.plot(cnn_error, label='y_pred_cnn_error')\n",
    "axs.plot(mlp_error, label='y_pred_mlp_error')\n",
    "plt.legend(loc='best')\n",
    "fig.savefig('prediction_error.png', fig_size = (8,6))"
   ]
  }
 ],
 "metadata": {
  "kernelspec": {
   "display_name": "Python 3",
   "language": "python",
   "name": "python3"
  },
  "language_info": {
   "codemirror_mode": {
    "name": "ipython",
    "version": 3
   },
   "file_extension": ".py",
   "mimetype": "text/x-python",
   "name": "python",
   "nbconvert_exporter": "python",
   "pygments_lexer": "ipython3",
   "version": "3.6.8"
  }
 },
 "nbformat": 4,
 "nbformat_minor": 2
}
